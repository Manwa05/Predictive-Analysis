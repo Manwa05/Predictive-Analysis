{
 "cells": [
  {
   "cell_type": "code",
   "execution_count": 1,
   "metadata": {},
   "outputs": [
    {
     "name": "stdout",
     "output_type": "stream",
     "text": [
      "After splitting into train-test\n",
      "x train :  (28669, 48)\n",
      "x test  :  (12287, 48)\n",
      "y train :  (28669,)\n",
      "y test  :  (12287,)\n",
      "<class 'numpy.ndarray'>\n"
     ]
    }
   ],
   "source": [
    "# -*- coding: utf-8 -*-\n",
    "\"\"\"\n",
    "Predicitve_Analytics.py\n",
    "\"\"\"\n",
    "#using minmax normalization\n",
    "import pandas as pd\n",
    "import numpy as np\n",
    "import time\n",
    "from sklearn.model_selection import train_test_split\n",
    "from sklearn import preprocessing\n",
    "from sklearn import metrics\n",
    "from sklearn.metrics import accuracy_score\n",
    "from sklearn.tree import DecisionTreeClassifier\n",
    "from sklearn.tree import DecisionTreeRegressor\n",
    "from sklearn.neighbors import KNeighborsClassifier\n",
    "from sklearn import svm\n",
    "import copy\n",
    "import random\n",
    "import matplotlib as plt\n",
    "import sys \n",
    "sys.setrecursionlimit(10**6) \n",
    "#data = 'C:/Users/Astrid/Documents/DIC/Assignment1/data.csv'\n",
    "dataframe = pd.read_csv('C:/Users/Astrid/Documents/DIC/Assignment1/data.csv')\n",
    "data_X = dataframe.iloc[:,0:48]\n",
    "data_X = (data_X - np.min(data_X))/(np.max(data_X) - np.min(data_X)).values\n",
    "data_X = np.array(data_X)\n",
    "#print(data_X.shape)\n",
    "\n",
    "data_Y = dataframe['48'].values\n",
    "data_Y = np.array(data_Y)\n",
    "#print(data_Y.shape)\n",
    "\n",
    "#normalizing data\n",
    "#from sklearn import preprocessing\n",
    "#data_X = preprocessing.MinMaxScaler().fit_transform(data_X)\n",
    "\n",
    "from sklearn.model_selection import train_test_split\n",
    "X_train, X_test, Y_train, Y_test = train_test_split(data_X, data_Y, test_size=0.3, random_state=50)\n",
    "print(\"After splitting into train-test\")\n",
    "print(\"x train : \", X_train.shape) \n",
    "print(\"x test  : \", X_test.shape) \n",
    "print(\"y train : \", Y_train.shape)\n",
    "print(\"y test  : \", Y_test.shape)\n",
    "print(type(Y_test))"
   ]
  },
  {
   "cell_type": "code",
   "execution_count": 199,
   "metadata": {},
   "outputs": [],
   "source": [
    "def Accuracy(y_true,y_pred):\n",
    "    \"\"\"\n",
    "    :type y_true: numpy.ndarray\n",
    "    :type y_pred: numpy.ndarray\n",
    "    :rtype: float\n",
    "    \n",
    "    \"\"\"\n",
    "    accuracy_scores = []\n",
    "    correct_pred = 0\n",
    "    for i in range(len(y_true)):\n",
    "        if (y_true[i] == y_pred[i]):\n",
    "            correct_pred  = correct_pred + 1\n",
    "    acc = (correct_pred / float(len(y_true))) * 100.0\n",
    "    accuracy_scores.append(acc)\n",
    "    accuracy = sum(accuracy_scores) / len(accuracy_scores)\n",
    "    return accuracy"
   ]
  },
  {
   "cell_type": "code",
   "execution_count": 200,
   "metadata": {},
   "outputs": [],
   "source": [
    "def Recall(y_true,y_pred):\n",
    "    \"\"\"\n",
    "    :type y_true: numpy.ndarray\n",
    "    :type y_pred: numpy.ndarray\n",
    "    :rtype: float\n",
    "    \"\"\"\n",
    "    recall_scores = []\n",
    "    true_positive_cnt = 0\n",
    "    cnt = 0\n",
    "    for i in range(len(y_true)):\n",
    "        if(y_true[i] == 1):\n",
    "            cnt = cnt + 1\n",
    "            if(y_true[i] == y_pred[i]):\n",
    "                true_positive_cnt = true_positive_cnt + 1 \n",
    "    recall_partial = (true_positive_cnt / cnt) * 100.0\n",
    "    recall_scores.append(recall_partial)\n",
    "    recall = sum(recall_scores) / len(recall_scores)\n",
    "    return recall\n"
   ]
  },
  {
   "cell_type": "code",
   "execution_count": 201,
   "metadata": {},
   "outputs": [],
   "source": [
    "def Precision(y_true,y_pred):\n",
    "    \"\"\"\n",
    "    :type y_true: numpy.ndarray\n",
    "    :type y_pred: numpy.ndarray\n",
    "    :rtype: float\n",
    "    \"\"\"\n",
    "    precision_scores = []\n",
    "    true_positive_cnt = 0\n",
    "    cnt = 0\n",
    "    for i in range(len(y_true)):\n",
    "        if(y_pred[i] == 1):\n",
    "            cnt = cnt + 1\n",
    "            if(y_true[i] == y_pred[i]):\n",
    "                true_positive_cnt = true_positive_cnt + 1\n",
    "    precision_partial = (true_positive_cnt / cnt) * 100.0\n",
    "    precision_scores.append(precision_partial)\n",
    "    precision = sum(precision_scores) / len(precision_scores) \n",
    "    return precision\n"
   ]
  },
  {
   "cell_type": "code",
   "execution_count": 202,
   "metadata": {},
   "outputs": [],
   "source": [
    "def WCSS(Clusters,centriods_use):\n",
    "    \"\"\"\n",
    "    :Clusters List[numpy.ndarray]\n",
    "    :rtype: float\n",
    "    \"\"\"\n",
    "    wcss = 0\n",
    "    # Euclidean Distance Caculator\n",
    "    def dist(a, b, ax=1):\n",
    "        return np.linalg.norm(a - b)\n",
    "    for i in range(len(Clusters)):\n",
    "        wcss = wcss + dist(Clusters[i],centriods_use[i]) * dist(Clusters[i],centriods_use[i])\n",
    "    #print(wcss)\n",
    "    return wcss"
   ]
  },
  {
   "cell_type": "code",
   "execution_count": 203,
   "metadata": {},
   "outputs": [],
   "source": [
    "def ConfusionMatrix(y_true,y_pred):\n",
    "    \"\"\"\n",
    "    :type y_true: numpy.ndarray\n",
    "    :type y_pred: numpy.ndarray\n",
    "    :rtype: float\n",
    "    \"\"\"  \n",
    "    classes = np.unique(np.concatenate((y_true,y_pred)))\n",
    "    conf_mat = np.empty((len(classes),len(classes)),dtype=np.int)\n",
    "    for i,x in enumerate(classes):\n",
    "        for j,y in enumerate(classes):\n",
    "            conf_mat[i,j] = np.where((y_true==x) * (y_pred==y))[0].shape[0]\n",
    "    \n",
    "    return conf_mat"
   ]
  },
  {
   "cell_type": "code",
   "execution_count": 204,
   "metadata": {},
   "outputs": [],
   "source": [
    "def KNN(X_train,X_test,Y_train,N):\n",
    "    \"\"\"\n",
    "    :type X_train: numpy.ndarray\n",
    "    :type X_test: numpy.ndarray\n",
    "    :type Y_train: numpy.ndarray\n",
    "    \n",
    "    :rtype: numpy.ndarray\n",
    "    \"\"\"\n",
    "    #y_train_new=[]\n",
    "    #for i in Y_train:\n",
    "        #for j in i:\n",
    "            #y_train_new.append(j)\n",
    "    K=N        \n",
    "    def distmat(a, b):\n",
    "        return np.linalg.norm(a - b,axis=1)\n",
    "\n",
    "\n",
    "    m=X_train.shape[0] \n",
    "    n=X_test.shape[0] \n",
    "    \n",
    "    p=Y_train.shape[0]\n",
    "    q=Y_test.shape[0]\n",
    "    final_pred=[]\n",
    "    for i in range(n):\n",
    "        arr=np.tile(X_test[i],(m,1))\n",
    "        value=distmat(arr,X_train)\n",
    "        sorted_indices=np.argsort(value)\n",
    "        label_pred=[]\n",
    "        for q in range(K):\n",
    "            l=sorted_indices[q]        \n",
    "            label_pred.append(Y_train[l])     \n",
    "        a=np.array(label_pred)\n",
    "        counts = np.bincount(a) \n",
    "        final_pred.append(np.argmax(counts))\n",
    "    true_pred=np.array(final_pred)\n",
    "    return true_pred\n"
   ]
  },
  {
   "cell_type": "code",
   "execution_count": 205,
   "metadata": {},
   "outputs": [],
   "source": [
    "def PCA(X_train,N):\n",
    "    \"\"\"\n",
    "    :type X_train: numpy.ndarray\n",
    "    :type N: int\n",
    "    :rtype: numpy.ndarray\n",
    "    \"\"\"\n",
    "    #Standardising the dataset by centering the mean and scaling each component to unit variance \n",
    "    X_train = preprocessing.scale(X_train)\n",
    "\n",
    "    #Computing the covariance matrix to find correlation between datapoints\n",
    "    X_covariance_matrix = np.cov(X_train.T)\n",
    "\n",
    "    #Finding eigen values, eigen vectors\n",
    "    eig_vals,eig_vects = np.linalg.eig(X_covariance_matrix)\n",
    "\n",
    "    #Forming eigenvalues,eigen-vector pairs\n",
    "    eig_pairs = [((eig_vals[i]),eig_vects[:,i])for i in range(len(eig_vals))]\n",
    "\n",
    "    #Sorting the eigenvalues\n",
    "    eig_pairs.sort(key=lambda X:X[0],reverse=True)\n",
    "\n",
    "    #Getting the top n_components vectors\n",
    "    n_comp_vects = eig_vects[:,:N]\n",
    "\n",
    "    #Finding the reduced dimensionality by multiplying it with original matrix\n",
    "    red_dim_mat = np.dot(X_train,n_comp_vects)\n",
    "    #print(red_dim_mat)\n",
    "    return red_dim_mat\n",
    "\n"
   ]
  },
  {
   "cell_type": "code",
   "execution_count": 206,
   "metadata": {},
   "outputs": [],
   "source": [
    "def Kmeans(X_train,N):\n",
    "    \"\"\"\n",
    "    :type X_train: numpy.ndarray\n",
    "    :type N: int\n",
    "    :rtype: List[numpy.ndarray]\n",
    "    \"\"\"\n",
    "    K = N\n",
    "    m = X_train.shape[0] \n",
    "    n = X_train.shape[1] \n",
    "    # Euclidean Distance Calculator\n",
    "    def dist(a, b, ax=1):\n",
    "        return np.linalg.norm(a - b,)\n",
    "\n",
    "    #Taking Centroid matrix\n",
    "    Centroids=np.array([]).reshape(n,0) \n",
    "\n",
    "    #randomly selecting centroid\n",
    "    for i in range(K):\n",
    "        rand = random.randint(0,m-1)\n",
    "        Centroids = np.c_[Centroids,X_train[rand]]\n",
    "\n",
    "    #Taking transpose\n",
    "    centriods_use = Centroids.T\n",
    "\n",
    "    #Storing the value of centroids when it updates\n",
    "    centriods_previous = np.zeros(centriods_use.shape)\n",
    "\n",
    "    # Calculating Error func. - Distance between new centroids and old centroids\n",
    "    error = dist(centriods_use, centriods_previous, None)\n",
    "\n",
    "    array_index = []\n",
    "    centroid = []\n",
    "\n",
    "    for i in range(len(X_train)):\n",
    "        array_index.append(0)\n",
    "        centroid.append(0)\n",
    "    while error != 0:\n",
    "        # Assigning each value to its closest cluster\n",
    "        for i in range(len(X_train)):\n",
    "            length_dist = []\n",
    "            for j in range(K):\n",
    "                distances = dist(X_train[i], centriods_use[j])\n",
    "                length_dist.append(distances)\n",
    "            array_index[i] = length_dist.index(min(length_dist))\n",
    "            centroid[i] = centriods_use[array_index[i]]\n",
    "        centriods_previous = copy.deepcopy(centriods_use)\n",
    "        # Finding the new centroids by taking the average value\n",
    "        for i in range(K):\n",
    "            points = [X_train[j] for j in range(len(X_train)) if array_index[j] == i]\n",
    "            centriods_use[i] = np.mean(points, axis=0)  \n",
    "        error = dist(centriods_use, centriods_previous, None)   \n",
    "    sum1=0\n",
    "    clusters=[]\n",
    "\n",
    "    for i in range(K):\n",
    "        mini_clusters = []\n",
    "        for j in range(len(X_train)):\n",
    "            if(array_index[j] == i):\n",
    "                mini_clusters.append(X_train[j])\n",
    "        clusters.append(mini_clusters)       \n",
    "    clusters1 = np.array(clusters)\n",
    "    return clusters1,centriods_use\n",
    "    \n"
   ]
  },
  {
   "cell_type": "code",
   "execution_count": 207,
   "metadata": {},
   "outputs": [],
   "source": [
    "def SklearnSupervisedLearning(X_train,Y_train,X_test, Y_test):\n",
    "    \"\"\"\n",
    "    :type X_train: numpy.ndarray\n",
    "    :type X_test: numpy.ndarray\n",
    "    :type Y_train: numpy.ndarray\n",
    "    \n",
    "    :rtype: List[numpy.ndarray] \n",
    "    \"\"\"\n",
    "    #SVM (using linear kernel)\n",
    "    from sklearn import svm\n",
    "    clf = svm.SVC(kernel='linear') \n",
    "    clf.fit(X_train, Y_train)\n",
    "    y_pred_svm = clf.predict(X_test)\n",
    "    print('Accuracy for SVM: ', Accuracy(Y_test,y_pred_svm))\n",
    "     \n",
    "    #Logistic regression\n",
    "    from sklearn.linear_model import LogisticRegression\n",
    "    lr = LogisticRegression()\n",
    "    lr.fit(X_train, Y_train)\n",
    "    y_pred_lr = lr.predict(X_test)\n",
    "    print('Accuracy for Logistic regression: ', Accuracy(Y_test,y_pred_lr))\n",
    "\n",
    "    #Decision Trees\n",
    "    from sklearn.tree import DecisionTreeClassifier\n",
    "    classifier = DecisionTreeClassifier()\n",
    "    classifier.fit(X_train, Y_train)\n",
    "    y_pred_dt = classifier.predict(X_test)\n",
    "    print('Accuracy for Decision Tree: ', Accuracy(Y_test,y_pred_dt))\n",
    "\n",
    "    #K-nn\n",
    "    from sklearn.neighbors import KNeighborsClassifier\n",
    "    knn = KNeighborsClassifier(n_neighbors=11)\n",
    "    knn.fit(X_train, Y_train)\n",
    "    y_pred_knn = knn.predict(X_test)  \n",
    "    print('Accuracy for K-nn: ', Accuracy(Y_test,y_pred_knn))\n",
    "\n",
    "    list_all = []\n",
    "    list_all.append(y_pred_svm)\n",
    "    list_all.append(y_pred_lr)\n",
    "    list_all.append(y_pred_dt)\n",
    "    list_all.append(y_pred_knn)\n",
    "    return list_all\n",
    "\n"
   ]
  },
  {
   "cell_type": "code",
   "execution_count": 208,
   "metadata": {},
   "outputs": [],
   "source": [
    "def SklearnVotingClassifier(X_train,Y_train,X_test,Y_test):\n",
    "    \n",
    "    \"\"\"\n",
    "    :type X_train: numpy.ndarray\n",
    "    :type X_test: numpy.ndarray\n",
    "    :type Y_train: numpy.ndarray\n",
    "    \n",
    "    :rtype: numpy.ndarray\n",
    "    \"\"\"\n",
    "    import pandas\n",
    "    from sklearn import model_selection\n",
    "    from sklearn.linear_model import LogisticRegression\n",
    "    from sklearn.tree import DecisionTreeClassifier\n",
    "    from sklearn.svm import SVC\n",
    "    from sklearn.neighbors import KNeighborsClassifier\n",
    "    from sklearn.ensemble import VotingClassifier\n",
    "    \n",
    "    kfold = model_selection.KFold(n_splits=5, random_state=5)\n",
    "\n",
    "    # creating the sub models\n",
    "    estimators = []\n",
    "    model1 = SVC(kernel='linear')\n",
    "    estimators.append(('svm', model1))\n",
    "    model2 = LogisticRegression()\n",
    "    estimators.append(('logistic', model2))\n",
    "    model3 = DecisionTreeClassifier()\n",
    "    estimators.append(('cart', model3))\n",
    "    model4 = KNeighborsClassifier()\n",
    "    estimators.append(('knn', model4))\n",
    "\n",
    "    # creating the ensemble model\n",
    "    ensemble_model = VotingClassifier(estimators, voting='hard')\n",
    "    ensemble_model.fit(X_train, Y_train)\n",
    "    y_pred_ensemble = ensemble_model.predict(X_test)\n",
    "    print('Accuracy for ensemble model: ', Accuracy(Y_test,y_pred_ensemble))\n",
    "    return y_pred_ensemble\n"
   ]
  },
  {
   "cell_type": "code",
   "execution_count": 209,
   "metadata": {},
   "outputs": [],
   "source": [
    "def VisualizationConfusionMatrix(Y_test, y_pred):\n",
    "    import matplotlib.pyplot as plt\n",
    "    %matplotlib inline\n",
    "    \n",
    "    labels = np.unique(np.concatenate((Y_test,y_pred))).tolist()\n",
    "    cm = ConfusionMatrix(Y_test,y_pred)\n",
    "    print(cm)\n",
    "    fig = plt.figure()\n",
    "    ax = fig.add_subplot(111)\n",
    "    cax = ax.matshow(cm)\n",
    "    plt.title('Confusion matrix of the classifier')\n",
    "    fig.colorbar(cax)\n",
    "    ax.set_xticklabels([''] + labels)\n",
    "    ax.set_yticklabels([''] + labels)\n",
    "    plt.xlabel('Predicted')\n",
    "    plt.ylabel('True')\n",
    "    plt.show()  "
   ]
  },
  {
   "cell_type": "code",
   "execution_count": 167,
   "metadata": {},
   "outputs": [],
   "source": [
    "y_pred=KNN(X_train,X_test,Y_train,11)"
   ]
  },
  {
   "cell_type": "code",
   "execution_count": 144,
   "metadata": {
    "scrolled": true
   },
   "outputs": [
    {
     "name": "stdout",
     "output_type": "stream",
     "text": [
      "98.41295678359242\n",
      "98.16007359705611\n",
      "97.88990825688073\n"
     ]
    }
   ],
   "source": [
    "#Accuracy,Recall Precision \n",
    "print(Accuracy(y_pred,Y_test))\n",
    "print(Recall(y_pred,Y_test))\n",
    "print(Precision(y_pred,Y_test))"
   ]
  },
  {
   "cell_type": "code",
   "execution_count": 145,
   "metadata": {},
   "outputs": [],
   "source": [
    "red_dim_mat=PCA(X_train,4)"
   ]
  },
  {
   "cell_type": "code",
   "execution_count": 146,
   "metadata": {},
   "outputs": [
    {
     "name": "stdout",
     "output_type": "stream",
     "text": [
      "[[ 4.99779250e-01 -3.04512125e-03  7.43022353e-01 -4.01214055e-01]\n",
      " [-5.42021757e+00  9.58345132e-01 -7.09221914e-01 -2.30280105e+00]\n",
      " [-1.44595929e+00 -8.89612032e-01 -1.30023227e+00  3.23044930e+00]\n",
      " ...\n",
      " [-2.50634848e+00 -5.94852179e-01  1.60077174e+00 -3.08984215e+00]\n",
      " [ 5.28849594e-02 -3.10782813e-01  1.92459802e+00  9.66196011e-01]\n",
      " [-5.51358780e-01 -7.72471950e-01  3.74633312e+00 -1.45206576e+00]]\n"
     ]
    }
   ],
   "source": [
    "print(red_dim_mat)"
   ]
  },
  {
   "cell_type": "code",
   "execution_count": 196,
   "metadata": {},
   "outputs": [
    {
     "name": "stdout",
     "output_type": "stream",
     "text": [
      "[[ 0.51029324 -0.02692387  0.04045508  0.06263983]\n",
      " [-1.00242518  0.11631759  0.08935833  0.15992442]\n",
      " [-0.37322329 -0.26982917  0.04600288 -0.20266988]\n",
      " ...\n",
      " [-0.14763306 -0.13757096 -0.01347299  0.20362135]\n",
      " [ 0.34080362  0.1145302  -0.06448933  0.05249532]\n",
      " [ 0.40121589 -0.12793732 -0.04323234  0.12886708]]\n"
     ]
    }
   ],
   "source": [
    "#To crosscheck PCA with sklearns\n",
    "from sklearn.preprocessing import StandardScaler\n",
    "from sklearn.decomposition import PCA\n",
    "pca = PCA(n_components=4)\n",
    "pca1=pca.fit_transform(X_train)\n",
    "print(pca1)"
   ]
  },
  {
   "cell_type": "code",
   "execution_count": 168,
   "metadata": {},
   "outputs": [],
   "source": [
    "clusters,centriods_use=Kmeans(X_train,11)"
   ]
  },
  {
   "cell_type": "code",
   "execution_count": 169,
   "metadata": {},
   "outputs": [
    {
     "name": "stdout",
     "output_type": "stream",
     "text": [
      "11\n",
      "11\n"
     ]
    }
   ],
   "source": [
    "print(len(clusters))\n",
    "print(len(centriods_use))"
   ]
  },
  {
   "cell_type": "code",
   "execution_count": 170,
   "metadata": {},
   "outputs": [
    {
     "name": "stdout",
     "output_type": "stream",
     "text": [
      "3579.303565753461\n"
     ]
    }
   ],
   "source": [
    "wcss=WCSS(clusters,centriods_use)\n",
    "print(wcss)"
   ]
  },
  {
   "cell_type": "code",
   "execution_count": 210,
   "metadata": {},
   "outputs": [
    {
     "name": "stdout",
     "output_type": "stream",
     "text": [
      "3367.3085588733306\n",
      "0.6477266993359324\n",
      "0.6451027614162774\n"
     ]
    }
   ],
   "source": [
    "#To crosscheck the kmeans with Sklearns\n",
    "from sklearn.cluster import KMeans\n",
    "import numpy as np\n",
    "kmeans = KMeans(n_clusters=11, random_state=0).fit(X_train)\n",
    "kmeans.labels_\n",
    "kmeans.predict(X_train)\n",
    "kmeans.cluster_centers_\n",
    "print(kmeans.inertia_)       \n",
    "print(centriods_use[1][2])  \n",
    "print(kmeans.cluster_centers_[1][2])"
   ]
  },
  {
   "cell_type": "code",
   "execution_count": 172,
   "metadata": {},
   "outputs": [
    {
     "name": "stdout",
     "output_type": "stream",
     "text": [
      "Accuracy for SVM:  89.3952958411329\n"
     ]
    },
    {
     "name": "stderr",
     "output_type": "stream",
     "text": [
      "C:\\Users\\Astrid\\Anaconda3\\lib\\site-packages\\sklearn\\linear_model\\logistic.py:432: FutureWarning: Default solver will be changed to 'lbfgs' in 0.22. Specify a solver to silence this warning.\n",
      "  FutureWarning)\n",
      "C:\\Users\\Astrid\\Anaconda3\\lib\\site-packages\\sklearn\\linear_model\\logistic.py:469: FutureWarning: Default multi_class will be changed to 'auto' in 0.22. Specify the multi_class option to silence this warning.\n",
      "  \"this warning.\", FutureWarning)\n"
     ]
    },
    {
     "name": "stdout",
     "output_type": "stream",
     "text": [
      "Accuracy for Logistic regression:  71.19720029299259\n",
      "Accuracy for Decision Tree:  98.2094897045658\n",
      "Accuracy for K-nn:  98.41295678359242\n"
     ]
    }
   ],
   "source": [
    "list_final_all=SklearnSupervisedLearning(X_train,Y_train,X_test, Y_test)"
   ]
  },
  {
   "cell_type": "code",
   "execution_count": 173,
   "metadata": {},
   "outputs": [
    {
     "name": "stdout",
     "output_type": "stream",
     "text": [
      "[array([ 1,  7,  7, ..., 11, 11,  7], dtype=int64), array([ 1,  7,  7, ..., 11, 11,  7], dtype=int64), array([ 1,  7,  7, ..., 11, 11,  7], dtype=int64), array([ 1,  7,  7, ..., 11, 11,  7], dtype=int64)]\n"
     ]
    }
   ],
   "source": [
    "print(list_final_all)"
   ]
  },
  {
   "cell_type": "code",
   "execution_count": 174,
   "metadata": {},
   "outputs": [
    {
     "name": "stderr",
     "output_type": "stream",
     "text": [
      "C:\\Users\\Astrid\\Anaconda3\\lib\\site-packages\\sklearn\\linear_model\\logistic.py:432: FutureWarning: Default solver will be changed to 'lbfgs' in 0.22. Specify a solver to silence this warning.\n",
      "  FutureWarning)\n",
      "C:\\Users\\Astrid\\Anaconda3\\lib\\site-packages\\sklearn\\linear_model\\logistic.py:469: FutureWarning: Default multi_class will be changed to 'auto' in 0.22. Specify the multi_class option to silence this warning.\n",
      "  \"this warning.\", FutureWarning)\n"
     ]
    },
    {
     "name": "stdout",
     "output_type": "stream",
     "text": [
      "Accuracy for ensemble model:  95.47489216244811\n"
     ]
    }
   ],
   "source": [
    "array_final=SklearnVotingClassifier(X_train,Y_train,X_test,Y_test)"
   ]
  },
  {
   "cell_type": "code",
   "execution_count": 175,
   "metadata": {},
   "outputs": [
    {
     "name": "stdout",
     "output_type": "stream",
     "text": [
      "[ 1  7  7 ... 11 11  7]\n"
     ]
    }
   ],
   "source": [
    "print(array_final)"
   ]
  },
  {
   "cell_type": "code",
   "execution_count": 176,
   "metadata": {},
   "outputs": [],
   "source": [
    "def VisualizationConfusionMatrix(Y_test, y_pred):\n",
    "    import matplotlib.pyplot as plt\n",
    "    %matplotlib inline\n",
    "    \n",
    "    labels = np.unique(np.concatenate((Y_test,y_pred))).tolist()\n",
    "    cm = ConfusionMatrix(Y_test,y_pred)\n",
    "    print(cm)\n",
    "    fig = plt.figure()\n",
    "    ax = fig.add_subplot(111)\n",
    "    cax = ax.matshow(cm)\n",
    "    plt.title('Confusion matrix of the classifier')\n",
    "    fig.colorbar(cax)\n",
    "    ax.set_xticklabels([''] + labels)\n",
    "    ax.set_yticklabels([''] + labels)\n",
    "    plt.xlabel('Predicted')\n",
    "    plt.ylabel('True')\n",
    "    plt.show()  "
   ]
  },
  {
   "cell_type": "code",
   "execution_count": 177,
   "metadata": {},
   "outputs": [
    {
     "name": "stdout",
     "output_type": "stream",
     "text": [
      "[[1032    0    0    0    0   55    0    0    3    0    0]\n",
      " [   1  973    0    0    0    0    0    0    0  132    0]\n",
      " [   0    0 1072    0   52    0    0    0    0    0    0]\n",
      " [   0    0   63 1034    5    0    0    0    0    0    0]\n",
      " [   0    0   32   38  875    0    0  220    0    0    0]\n",
      " [  44    0    0    0    0  876    0    0  171    0    0]\n",
      " [   0    0    0    0    0    0 1117    0    0    0    0]\n",
      " [   0    0    0    5   79    0    0 1031    0    0    0]\n",
      " [  24    4    0    0    0  237    0    0  897    0    0]\n",
      " [   0  138    0    0    0    0    0    0    0  961    0]\n",
      " [   0    0    0    0    0    0    0    0    0    0 1116]]\n"
     ]
    },
    {
     "data": {
      "image/png": "[encoded data removed]",
      "text/plain": [
       "<Figure size 432x288 with 2 Axes>"
      ]
     },
     "metadata": {
      "needs_background": "light"
     },
     "output_type": "display_data"
    }
   ],
   "source": [
    "VisualizationConfusionMatrix(Y_test, list_final_all[0])"
   ]
  },
  {
   "cell_type": "code",
   "execution_count": 178,
   "metadata": {},
   "outputs": [
    {
     "name": "stdout",
     "output_type": "stream",
     "text": [
      "[[1032    0    0    0    1   49    0    5    3    0    0]\n",
      " [   1  561  110    7    5    0    0    0    0  422    0]\n",
      " [   0  172  612   63  155   14    0    0    5  103    0]\n",
      " [   0   14  129  797   34    0   29    0    0   99    0]\n",
      " [  20   11  143   80  637   67    0  172   17   18    0]\n",
      " [ 220    5    8    0   40  665    0   19  134    0    0]\n",
      " [   0    0    0    0    0    0 1117    0    0    0    0]\n",
      " [  72    1    3   13  197   65    0  757    6    1    0]\n",
      " [  76   24   23    1   88  349    0    9  582   10    0]\n",
      " [   0  187   37    3    0    0    0    0    0  872    0]\n",
      " [   0    0    0    0    0    0    0    0    0    0 1116]]\n"
     ]
    },
    {
     "data": {
      "image/png": "[encoded data removed]",
      "text/plain": [
       "<Figure size 432x288 with 2 Axes>"
      ]
     },
     "metadata": {
      "needs_background": "light"
     },
     "output_type": "display_data"
    }
   ],
   "source": [
    "VisualizationConfusionMatrix(Y_test, list_final_all[1])"
   ]
  },
  {
   "cell_type": "code",
   "execution_count": 179,
   "metadata": {},
   "outputs": [
    {
     "name": "stdout",
     "output_type": "stream",
     "text": [
      "[[1065    0    0    0    0   18    0    0    7    0    0]\n",
      " [   0 1089    0    0    0    0    0    0    1   16    0]\n",
      " [   1    0 1107    1   13    0    0    2    0    0    0]\n",
      " [   0    0    2 1088    7    0    0    5    0    0    0]\n",
      " [   0    0    9    5 1127    0    0   24    0    0    0]\n",
      " [  22    0    0    0    0 1053    0    0   16    0    0]\n",
      " [   0    0    0    0    0    0 1117    0    0    0    0]\n",
      " [   0    0    1    0   24    0    0 1090    0    0    0]\n",
      " [   4    0    0    0    0   23    0    0 1135    0    0]\n",
      " [   0   19    0    0    0    0    0    0    0 1080    0]\n",
      " [   0    0    0    0    0    0    0    0    0    0 1116]]\n"
     ]
    },
    {
     "data": {
      "image/png": "[encoded data removed]",
      "text/plain": [
       "<Figure size 432x288 with 2 Axes>"
      ]
     },
     "metadata": {
      "needs_background": "light"
     },
     "output_type": "display_data"
    }
   ],
   "source": [
    "VisualizationConfusionMatrix(Y_test, list_final_all[2])"
   ]
  },
  {
   "cell_type": "code",
   "execution_count": 180,
   "metadata": {},
   "outputs": [
    {
     "name": "stdout",
     "output_type": "stream",
     "text": [
      "[[1067    0    0    0    0   22    0    1    0    0    0]\n",
      " [   0 1068    0    0    0    0    0    0    1   37    0]\n",
      " [   0    0 1122    1    1    0    0    0    0    0    0]\n",
      " [   0    0    4 1093    3    0    0    2    0    0    0]\n",
      " [   0    0    3    6 1147    0    0    9    0    0    0]\n",
      " [  18    0    1    0    1 1058    0    1   12    0    0]\n",
      " [   0    0    0    0    0    0 1117    0    0    0    0]\n",
      " [   0    0    0    0    6    2    0 1107    0    0    0]\n",
      " [   2    1    1    0    0   33    0    0 1124    1    0]\n",
      " [   0   26    0    0    0    0    0    0    0 1073    0]\n",
      " [   0    0    0    0    0    0    0    0    0    0 1116]]\n"
     ]
    },
    {
     "data": {
      "image/png": "[encoded data removed]",
      "text/plain": [
       "<Figure size 432x288 with 2 Axes>"
      ]
     },
     "metadata": {
      "needs_background": "light"
     },
     "output_type": "display_data"
    }
   ],
   "source": [
    "VisualizationConfusionMatrix(Y_test, list_final_all[3])"
   ]
  },
  {
   "cell_type": "code",
   "execution_count": 194,
   "metadata": {},
   "outputs": [],
   "source": [
    "def GridSearchCV_hp_tuning(X_train, X_test, y_train, y_test):\n",
    "    ##for SVM for best parameters\n",
    "    from sklearn.svm import SVC\n",
    "    from sklearn.model_selection import GridSearchCV \n",
    "    import matplotlib.pyplot as plt\n",
    "    from sklearn.metrics import classification_report\n",
    "    param_grid = {'C': [1, 10],  \n",
    "                  'gamma': ('auto','scale'), \n",
    "                  'kernel': ['linear']}  \n",
    "    grid = GridSearchCV(SVC(), param_grid, cv=2) \n",
    "    grid.fit(X_train, y_train)\n",
    "    print('Best parameters: ', grid.best_params_) \n",
    "    print('Best estimator: ', grid.best_estimator_) \n",
    "    grid_predictions = grid.predict(X_test)\n",
    "    acc = Accuracy(grid_predictions, y_test)\n",
    "    print('Acc: ', acc)\n",
    "    print(classification_report(y_test, grid_predictions))\n",
    "    \n",
    "    ##for Knn for best parameters\n",
    "    from sklearn.neighbors import KNeighborsClassifier\n",
    "    knn = KNeighborsClassifier()\n",
    "    params_knn = {'n_neighbors': [2,3,4,5], \n",
    "                  'weights': ['uniform'], \n",
    "                  'metric': ['euclidean'] \n",
    "                 }\n",
    "    knn_grid = GridSearchCV(knn, params_knn, cv=3)\n",
    "    knn_grid.fit(X_train, y_train)\n",
    "    print('Best parameters: ', knn_grid.best_params_) \n",
    "    print('Best estimator: ', knn_grid.best_estimator_) \n",
    "    grid_predictions = knn_grid.predict(X_test)\n",
    "    acc = Accuracy(grid_predictions, y_test)\n",
    "    print('Acc: ', acc)\n",
    "    print(classification_report(y_test, grid_predictions))\n",
    "    \n",
    "    ##for Decision Tree for best parameters\n",
    "    from sklearn.tree import DecisionTreeClassifier as dt\n",
    "    clf = dt()\n",
    "    param_grid = {'max_depth':[1,2,3],\n",
    "                  'min_samples_leaf':[1,2,3,4,5],\n",
    "                  'min_samples_split':[2,3,4],\n",
    "                  'criterion':['gini','entropy']\n",
    "                 }\n",
    "    grid = GridSearchCV(clf, param_grid, cv=10)\n",
    "    grid.fit(X_train, y_train)\n",
    "    print('Best parameters: ', grid.best_params_) \n",
    "    print('Best estimator: ', grid.best_estimator_)\n",
    "    grid_predictions = grid.predict(X_test)\n",
    "    acc = Accuracy(grid_predictions, y_test)\n",
    "    print('Acc: ', acc)\n",
    "    print(classification_report(y_test, grid_predictions))\n",
    "    \n",
    "    ##Tuning the hyperparameters\n",
    "    ##for SVM: parameter C\n",
    "    from sklearn.model_selection import GridSearchCV \n",
    "    from sklearn.metrics import classification_report \n",
    "    c_values = [0.1, 1, 10 , 100]\n",
    "    acc = []\n",
    "    for i in c_values:\n",
    "        param_grid = {'C': [i],  \n",
    "                      'gamma': ('auto','scale'), \n",
    "                      'kernel': ['linear']}  \n",
    "        grid = GridSearchCV(SVC(), param_grid, cv=2) \n",
    "        grid.fit(X_train, y_train)\n",
    "        print('Best parameters: ', grid.best_params_) \n",
    "        print('Best estimator: ', grid.best_estimator_) \n",
    "        grid_predictions = grid.predict(X_test)\n",
    "        acc_1 = Accuracy(grid_predictions, y_test)\n",
    "        acc.append(acc_1) \n",
    "    xi = list(range(len(c_values)))\n",
    "    plt.plot(xi, acc, marker='o', linestyle='--', color='r', label='acc')\n",
    "    plt.xlabel('C values',fontweight=\"bold\",fontsize = 12)\n",
    "    plt.ylabel('accuracy',fontweight=\"bold\",fontsize = 12)\n",
    "    plt.title(\"C vs accuracy for GridSearchCV SVM\",fontweight=\"bold\",fontsize = 16)\n",
    "    plt.xticks(xi, c_values)\n",
    "    plt.legend()\n",
    "    plt.show()\n",
    "    \n",
    "    ##for SVM: parameter kernel\n",
    "    from sklearn.model_selection import GridSearchCV \n",
    "    from sklearn.metrics import classification_report \n",
    "    kernel_values = ['linear', 'rbf']\n",
    "    acc_k = []\n",
    "    for i in kernel_values:\n",
    "        # defining parameter range \n",
    "        param_grid = {'C': [10],  \n",
    "                      'gamma': ('auto','scale'), \n",
    "                      'kernel': [i]}  \n",
    "        grid = GridSearchCV(SVC(), param_grid, cv=2) \n",
    "        grid.fit(X_train, y_train)\n",
    "        print('Best parameters: ', grid.best_params_) \n",
    "        print('Best estimator: ', grid.best_estimator_) \n",
    "        grid_predictions = grid.predict(X_test)\n",
    "        acc_1 = Accuracy(grid_predictions, y_test)\n",
    "        acc_k.append(acc_1)\n",
    "    xi = list(range(len(kernel_values)))\n",
    "    plt.plot(xi, acc_k, marker='o', linestyle='--', color='r', label='acc')\n",
    "    plt.xlabel('kernel',fontweight=\"bold\",fontsize = 12)\n",
    "    plt.ylabel('accuracy',fontweight=\"bold\",fontsize = 12)\n",
    "    plt.title(\"kernels vs accuracy for GridSearchCV SVM\",fontweight=\"bold\",fontsize = 16)\n",
    "    plt.xticks(xi, kernel_values)\n",
    "    plt.legend()\n",
    "    plt.show()\n",
    "\n",
    "    ##for decision tree: parameter max_depth\n",
    "    from sklearn.tree import DecisionTreeClassifier as dt\n",
    "    max_depth_values = [1, 2, 3]\n",
    "    acc_dep = []\n",
    "    clf=dt()\n",
    "    for i in max_depth_values:\n",
    "        param_grid = {'max_depth':[i],\n",
    "                      'min_samples_leaf':[1,2,3,4,5],\n",
    "                      'min_samples_split':[2,3,4],\n",
    "                      'criterion':['gini','entropy']}\n",
    "        grid = GridSearchCV(clf,param_grid, cv=10)\n",
    "        a = grid.fit(X_train, y_train)\n",
    "        y_pred = grid.predict(X_test)\n",
    "        print('Best parameters: ', grid.best_params_) \n",
    "        print('Best estimator: ', grid.best_estimator_)  \n",
    "        grid_predictions = grid.predict(X_test)\n",
    "        acc = Accuracy(grid_predictions, y_test)\n",
    "        acc_dep.append(acc)\n",
    "    xi = list(range(len(max_depth_values)))\n",
    "    plt.plot(xi, acc_dep, marker='o', linestyle='--', color='r', label='acc')\n",
    "    plt.xlabel('max_depth values',fontweight=\"bold\",fontsize = 12)\n",
    "    plt.ylabel('accuracy',fontweight=\"bold\",fontsize = 12)\n",
    "    plt.title(\"max_depth vs accuracy for GridSearchCV Decision Tree\",fontweight=\"bold\",fontsize = 16)\n",
    "    plt.xticks(xi, max_depth_values)\n",
    "    plt.legend()\n",
    "    plt.show()\n",
    "    \n",
    "    ##for Knn: parameter K\n",
    "    knn = KNeighborsClassifier()\n",
    "    acc_knn = []\n",
    "    n_values = [2, 3, 4, 5]\n",
    "    for i in n_values:\n",
    "        params_knn = {'n_neighbors': [i], \n",
    "                      'weights': ['uniform'], \n",
    "                      'metric': ['euclidean'] \n",
    "                     }\n",
    "        knn_grid= GridSearchCV(knn, params_knn, cv=3)\n",
    "        knn_grid.fit(X_train, y_train)\n",
    "        print('Best parameters: ', grid.best_params_) \n",
    "        print('Best estimator: ', grid.best_estimator_)  \n",
    "        grid_predictions = knn_grid.predict(X_test)\n",
    "        acc_1 = Accuracy(grid_predictions, y_test)\n",
    "        print('acc: ',acc_1)\n",
    "        acc_knn.append(acc_1)\n",
    "    xi = list(range(len(n_values)))\n",
    "    plt.plot(xi, acc_knn, marker='o', linestyle='--', color='r', label='acc')\n",
    "    plt.xlabel('k values',fontweight=\"bold\",fontsize = 12)\n",
    "    plt.ylabel('accuracy',fontweight=\"bold\",fontsize = 12)\n",
    "    plt.title(\"k vs accuracy for GridSearchCV Knn\",fontweight=\"bold\",fontsize = 16)\n",
    "    plt.xticks(xi, n_values)\n",
    "    plt.legend()\n",
    "    plt.show()\n",
    "\n"
   ]
  },
  {
   "cell_type": "code",
   "execution_count": 195,
   "metadata": {},
   "outputs": [
    {
     "name": "stdout",
     "output_type": "stream",
     "text": [
      "Best parameters:  {'C': 10, 'gamma': 'auto', 'kernel': 'linear'}\n",
      "Best estimator:  SVC(C=10, cache_size=200, class_weight=None, coef0=0.0,\n",
      "    decision_function_shape='ovr', degree=3, gamma='auto', kernel='linear',\n",
      "    max_iter=-1, probability=False, random_state=None, shrinking=True,\n",
      "    tol=0.001, verbose=False)\n",
      "Acc:  90.91722959225197\n",
      "              precision    recall  f1-score   support\n",
      "\n",
      "           1       0.93      0.96      0.94      1090\n",
      "           2       0.89      0.91      0.90      1106\n",
      "           3       0.96      0.95      0.96      1124\n",
      "           4       0.96      0.98      0.97      1102\n",
      "           5       0.86      0.77      0.81      1165\n",
      "           6       0.80      0.82      0.81      1091\n",
      "           7       1.00      1.00      1.00      1117\n",
      "           8       0.83      0.91      0.87      1115\n",
      "           9       0.87      0.81      0.84      1162\n",
      "          10       0.90      0.89      0.90      1099\n",
      "          11       1.00      1.00      1.00      1116\n",
      "\n",
      "    accuracy                           0.91     12287\n",
      "   macro avg       0.91      0.91      0.91     12287\n",
      "weighted avg       0.91      0.91      0.91     12287\n",
      "\n",
      "Best parameters:  {'metric': 'euclidean', 'n_neighbors': 5, 'weights': 'uniform'}\n",
      "Best estimator:  KNeighborsClassifier(algorithm='auto', leaf_size=30, metric='euclidean',\n",
      "                     metric_params=None, n_jobs=None, n_neighbors=5, p=2,\n",
      "                     weights='uniform')\n",
      "Acc:  98.6245625457801\n",
      "              precision    recall  f1-score   support\n",
      "\n",
      "           1       0.99      0.98      0.98      1090\n",
      "           2       0.98      0.97      0.98      1106\n",
      "           3       0.99      1.00      0.99      1124\n",
      "           4       0.99      1.00      0.99      1102\n",
      "           5       0.99      0.99      0.99      1165\n",
      "           6       0.95      0.97      0.96      1091\n",
      "           7       1.00      1.00      1.00      1117\n",
      "           8       0.99      0.99      0.99      1115\n",
      "           9       0.99      0.97      0.98      1162\n",
      "          10       0.97      0.98      0.98      1099\n",
      "          11       1.00      1.00      1.00      1116\n",
      "\n",
      "    accuracy                           0.99     12287\n",
      "   macro avg       0.99      0.99      0.99     12287\n",
      "weighted avg       0.99      0.99      0.99     12287\n",
      "\n",
      "Best parameters:  {'criterion': 'entropy', 'max_depth': 3, 'min_samples_leaf': 1, 'min_samples_split': 3}\n",
      "Best estimator:  DecisionTreeClassifier(class_weight=None, criterion='entropy', max_depth=3,\n",
      "                       max_features=None, max_leaf_nodes=None,\n",
      "                       min_impurity_decrease=0.0, min_impurity_split=None,\n",
      "                       min_samples_leaf=1, min_samples_split=3,\n",
      "                       min_weight_fraction_leaf=0.0, presort=False,\n",
      "                       random_state=None, splitter='best')\n",
      "Acc:  67.05461056401074\n",
      "              precision    recall  f1-score   support\n",
      "\n",
      "           1       0.79      0.64      0.71      1090\n",
      "           2       0.50      1.00      0.67      1106\n",
      "           3       0.76      0.96      0.85      1124\n",
      "           4       0.97      0.88      0.92      1102\n",
      "           5       0.00      0.00      0.00      1165\n",
      "           6       0.00      0.00      0.00      1091\n",
      "           7       0.99      0.99      0.99      1117\n",
      "           8       0.50      0.93      0.65      1115\n",
      "           9       0.46      0.96      0.62      1162\n",
      "          10       0.00      0.00      0.00      1099\n",
      "          11       1.00      1.00      1.00      1116\n",
      "\n",
      "    accuracy                           0.67     12287\n",
      "   macro avg       0.54      0.67      0.58     12287\n",
      "weighted avg       0.54      0.67      0.58     12287\n",
      "\n"
     ]
    },
    {
     "name": "stderr",
     "output_type": "stream",
     "text": [
      "C:\\Users\\Astrid\\Anaconda3\\lib\\site-packages\\sklearn\\metrics\\classification.py:1437: UndefinedMetricWarning: Precision and F-score are ill-defined and being set to 0.0 in labels with no predicted samples.\n",
      "  'precision', 'predicted', average, warn_for)\n"
     ]
    },
    {
     "name": "stdout",
     "output_type": "stream",
     "text": [
      "Best parameters:  {'C': 0.1, 'gamma': 'auto', 'kernel': 'linear'}\n",
      "Best estimator:  SVC(C=0.1, cache_size=200, class_weight=None, coef0=0.0,\n",
      "    decision_function_shape='ovr', degree=3, gamma='auto', kernel='linear',\n",
      "    max_iter=-1, probability=False, random_state=None, shrinking=True,\n",
      "    tol=0.001, verbose=False)\n",
      "Best parameters:  {'C': 1, 'gamma': 'auto', 'kernel': 'linear'}\n",
      "Best estimator:  SVC(C=1, cache_size=200, class_weight=None, coef0=0.0,\n",
      "    decision_function_shape='ovr', degree=3, gamma='auto', kernel='linear',\n",
      "    max_iter=-1, probability=False, random_state=None, shrinking=True,\n",
      "    tol=0.001, verbose=False)\n",
      "Best parameters:  {'C': 10, 'gamma': 'auto', 'kernel': 'linear'}\n",
      "Best estimator:  SVC(C=10, cache_size=200, class_weight=None, coef0=0.0,\n",
      "    decision_function_shape='ovr', degree=3, gamma='auto', kernel='linear',\n",
      "    max_iter=-1, probability=False, random_state=None, shrinking=True,\n",
      "    tol=0.001, verbose=False)\n",
      "Best parameters:  {'C': 100, 'gamma': 'auto', 'kernel': 'linear'}\n",
      "Best estimator:  SVC(C=100, cache_size=200, class_weight=None, coef0=0.0,\n",
      "    decision_function_shape='ovr', degree=3, gamma='auto', kernel='linear',\n",
      "    max_iter=-1, probability=False, random_state=None, shrinking=True,\n",
      "    tol=0.001, verbose=False)\n"
     ]
    },
    {
     "data": {
      "image/png": "[encoded data removed]",
      "text/plain": [
       "<Figure size 432x288 with 1 Axes>"
      ]
     },
     "metadata": {
      "needs_background": "light"
     },
     "output_type": "display_data"
    },
    {
     "name": "stdout",
     "output_type": "stream",
     "text": [
      "Best parameters:  {'C': 10, 'gamma': 'auto', 'kernel': 'linear'}\n",
      "Best estimator:  SVC(C=10, cache_size=200, class_weight=None, coef0=0.0,\n",
      "    decision_function_shape='ovr', degree=3, gamma='auto', kernel='linear',\n",
      "    max_iter=-1, probability=False, random_state=None, shrinking=True,\n",
      "    tol=0.001, verbose=False)\n",
      "Best parameters:  {'C': 10, 'gamma': 'scale', 'kernel': 'rbf'}\n",
      "Best estimator:  SVC(C=10, cache_size=200, class_weight=None, coef0=0.0,\n",
      "    decision_function_shape='ovr', degree=3, gamma='scale', kernel='rbf',\n",
      "    max_iter=-1, probability=False, random_state=None, shrinking=True,\n",
      "    tol=0.001, verbose=False)\n"
     ]
    },
    {
     "data": {
      "image/png": "[encoded data removed]",
      "text/plain": [
       "<Figure size 432x288 with 1 Axes>"
      ]
     },
     "metadata": {
      "needs_background": "light"
     },
     "output_type": "display_data"
    },
    {
     "name": "stdout",
     "output_type": "stream",
     "text": [
      "Best parameters:  {'criterion': 'entropy', 'max_depth': 1, 'min_samples_leaf': 1, 'min_samples_split': 2}\n",
      "Best estimator:  DecisionTreeClassifier(class_weight=None, criterion='entropy', max_depth=1,\n",
      "                       max_features=None, max_leaf_nodes=None,\n",
      "                       min_impurity_decrease=0.0, min_impurity_split=None,\n",
      "                       min_samples_leaf=1, min_samples_split=2,\n",
      "                       min_weight_fraction_leaf=0.0, presort=False,\n",
      "                       random_state=None, splitter='best')\n",
      "Best parameters:  {'criterion': 'entropy', 'max_depth': 2, 'min_samples_leaf': 1, 'min_samples_split': 2}\n",
      "Best estimator:  DecisionTreeClassifier(class_weight=None, criterion='entropy', max_depth=2,\n",
      "                       max_features=None, max_leaf_nodes=None,\n",
      "                       min_impurity_decrease=0.0, min_impurity_split=None,\n",
      "                       min_samples_leaf=1, min_samples_split=2,\n",
      "                       min_weight_fraction_leaf=0.0, presort=False,\n",
      "                       random_state=None, splitter='best')\n",
      "Best parameters:  {'criterion': 'entropy', 'max_depth': 3, 'min_samples_leaf': 1, 'min_samples_split': 2}\n",
      "Best estimator:  DecisionTreeClassifier(class_weight=None, criterion='entropy', max_depth=3,\n",
      "                       max_features=None, max_leaf_nodes=None,\n",
      "                       min_impurity_decrease=0.0, min_impurity_split=None,\n",
      "                       min_samples_leaf=1, min_samples_split=2,\n",
      "                       min_weight_fraction_leaf=0.0, presort=False,\n",
      "                       random_state=None, splitter='best')\n"
     ]
    },
    {
     "data": {
      "image/png": "[encoded data removed]",
      "text/plain": [
       "<Figure size 432x288 with 1 Axes>"
      ]
     },
     "metadata": {
      "needs_background": "light"
     },
     "output_type": "display_data"
    },
    {
     "name": "stdout",
     "output_type": "stream",
     "text": [
      "Best parameters:  {'criterion': 'entropy', 'max_depth': 3, 'min_samples_leaf': 1, 'min_samples_split': 2}\n",
      "Best estimator:  DecisionTreeClassifier(class_weight=None, criterion='entropy', max_depth=3,\n",
      "                       max_features=None, max_leaf_nodes=None,\n",
      "                       min_impurity_decrease=0.0, min_impurity_split=None,\n",
      "                       min_samples_leaf=1, min_samples_split=2,\n",
      "                       min_weight_fraction_leaf=0.0, presort=False,\n",
      "                       random_state=None, splitter='best')\n",
      "acc:  97.94905184341174\n",
      "Best parameters:  {'criterion': 'entropy', 'max_depth': 3, 'min_samples_leaf': 1, 'min_samples_split': 2}\n",
      "Best estimator:  DecisionTreeClassifier(class_weight=None, criterion='entropy', max_depth=3,\n",
      "                       max_features=None, max_leaf_nodes=None,\n",
      "                       min_impurity_decrease=0.0, min_impurity_split=None,\n",
      "                       min_samples_leaf=1, min_samples_split=2,\n",
      "                       min_weight_fraction_leaf=0.0, presort=False,\n",
      "                       random_state=None, splitter='best')\n",
      "acc:  98.46992756571986\n",
      "Best parameters:  {'criterion': 'entropy', 'max_depth': 3, 'min_samples_leaf': 1, 'min_samples_split': 2}\n",
      "Best estimator:  DecisionTreeClassifier(class_weight=None, criterion='entropy', max_depth=3,\n",
      "                       max_features=None, max_leaf_nodes=None,\n",
      "                       min_impurity_decrease=0.0, min_impurity_split=None,\n",
      "                       min_samples_leaf=1, min_samples_split=2,\n",
      "                       min_weight_fraction_leaf=0.0, presort=False,\n",
      "                       random_state=None, splitter='best')\n",
      "acc:  98.46992756571986\n",
      "Best parameters:  {'criterion': 'entropy', 'max_depth': 3, 'min_samples_leaf': 1, 'min_samples_split': 2}\n",
      "Best estimator:  DecisionTreeClassifier(class_weight=None, criterion='entropy', max_depth=3,\n",
      "                       max_features=None, max_leaf_nodes=None,\n",
      "                       min_impurity_decrease=0.0, min_impurity_split=None,\n",
      "                       min_samples_leaf=1, min_samples_split=2,\n",
      "                       min_weight_fraction_leaf=0.0, presort=False,\n",
      "                       random_state=None, splitter='best')\n",
      "acc:  98.6245625457801\n"
     ]
    },
    {
     "data": {
      "image/png": "[encoded data removed]",
      "text/plain": [
       "<Figure size 432x288 with 1 Axes>"
      ]
     },
     "metadata": {
      "needs_background": "light"
     },
     "output_type": "display_data"
    }
   ],
   "source": [
    "GridSearchCV_hp_tuning(X_train, X_test, Y_train, Y_test)"
   ]
  },
  {
   "cell_type": "code",
   "execution_count": 2,
   "metadata": {},
   "outputs": [],
   "source": [
    "def RandomForest(X_train,Y_train,X_test):\n",
    "    \"\"\"\n",
    "    :type X_train: numpy.ndarray\n",
    "    :type X_test: numpy.ndarray\n",
    "    :type Y_train: numpy.ndarray\n",
    "    \n",
    "    :rtype: numpy.ndarray\n",
    "    \"\"\"\n",
    "    import sys \n",
    "    sys.setrecursionlimit(10**6) \n",
    "    n_trees=5\n",
    "    n_bootstrap=100\n",
    "    n_feat=2\n",
    "    y_train = Y_train.reshape(Y_train.shape[0], 1)\n",
    "   \n",
    "    X_train_data=np.concatenate((X_train,y_train),axis=1)\n",
    "    X_train_data=X_train_data[0:50]\n",
    "\n",
    "    #def random_forest(X_train_data,n_trees,n_bootstrap,n_feat):\n",
    "    forest=[]\n",
    "    \n",
    "    \n",
    "    \n",
    "    def get_col_based_splits(X_train_data,col_split,val_split):\n",
    "        split_col_vals=X_train_data[:,col_split]\n",
    "        greater_vals=X_train_data[split_col_vals > val_split]\n",
    "        smaller_vals=X_train_data[split_col_vals <= val_split]\n",
    "        return smaller_vals,greater_vals\n",
    "\n",
    "    def compute_entropy(X_train_data):\n",
    "        label=X_train_data[:,-1]\n",
    "        _,cnt=np.unique(label,return_counts=True) \n",
    "        probabilities=cnt/cnt.sum()\n",
    "        entropy=sum(probabilities*-np.log2(probabilities)) #elementwise probability \n",
    "        return entropy\n",
    "\n",
    "    def bootstrapping(X_train_data,n_bootstrap):\n",
    "        bootstrap_indices = np.random.randint(low=0, high=len(X_train_data), size=n_bootstrap)\n",
    "        df_bootstrapped = X_train_data[bootstrap_indices]\n",
    "        return df_bootstrapped\n",
    "\n",
    "    def decision_tree(X_train_data,flag=0,min_samples=2,max_depth=5):\n",
    "        label=X_train_data[:,-1]\n",
    "        a=np.unique(label)\n",
    "        unique_classes, Uniq_counts=np.unique(label,return_counts=True)\n",
    "        largest_idx=Uniq_counts.argmax()\n",
    "        classification=unique_classes[largest_idx]\n",
    "        if len(a)==1:\n",
    "            return True\n",
    "        else:\n",
    "            flag+=1\n",
    "            n_splits={}\n",
    "            _,cols=X_train_data.shape\n",
    "            for i in range (cols-1):\n",
    "                n_splits[i]=[]\n",
    "                vals=np.unique(X_train_data[:,i])\n",
    "\n",
    "                for j in range(len(vals)):\n",
    "                    if j!=0:\n",
    "                        curr_val=vals[j]\n",
    "                        prev_val=vals[j-1]\n",
    "                        split=(curr_val+prev_val)/2\n",
    "                        n_splits[i].append(split)\n",
    "            overall_entropy=999\n",
    "            for i in n_splits:\n",
    "                for val in n_splits[i]:\n",
    "                    smaller_vals,greater_vals=get_col_based_splits(X_train_data,col_split=i,val_split=val)\n",
    "                    all_data=len(smaller_vals)+len(greater_vals)\n",
    "                    smaller_vals_pts=len(smaller_vals)/all_data\n",
    "                    greater_vals_pts=len(greater_vals)/all_data\n",
    "                    curr_total_entropy=(smaller_vals_pts*compute_entropy(smaller_vals)+greater_vals_pts*compute_entropy(greater_vals))\n",
    "                if curr_total_entropy<=overall_entropy:\n",
    "                    overall_entropy=curr_total_entropy\n",
    "                    best_split_col=i\n",
    "                    best_split_val=val\n",
    "        #n_splits=get_nsplits(X_train)\n",
    "        #col_split,val_split=best_split(X_train,n_splits)\n",
    "        #print(col_split,val_split)\n",
    "        smaller_vals,greater_vals=get_col_based_splits(X_train_data,best_split_col,best_split_val)\n",
    "        quest=\"{} <= {}\".format(best_split_col,best_split_val)\n",
    "        subtree={quest:[]}\n",
    "        ans_y=decision_tree(smaller_vals,flag,min_samples,max_depth)\n",
    "        ans_n=decision_tree(greater_vals,flag,min_samples,max_depth)\n",
    "        subtree[quest].append(ans_y)\n",
    "        subtree[quest].append(ans_n)\n",
    "\n",
    "        return subtree\n",
    "\n",
    "    for x in range (n_trees):\n",
    "        df_bootstrap=bootstrapping(X_train_data,n_bootstrap)\n",
    "        tree=decision_tree(df_bootstrap)\n",
    "        forest.append(tree)\n",
    "    forest=np.array(forest)\n",
    "    \n",
    "    return forest\n",
    "\n"
   ]
  },
  {
   "cell_type": "code",
   "execution_count": 3,
   "metadata": {},
   "outputs": [],
   "source": [
    "rand=RandomForest(X_train,Y_train,X_test)"
   ]
  },
  {
   "cell_type": "code",
   "execution_count": 4,
   "metadata": {},
   "outputs": [
    {
     "data": {
      "text/plain": [
       "array([{'8 <= 0.8265076315776274': [{'40 <= 0.15422838843131165': [{'23 <= 0.9561378416003965': [{'32 <= 0.4111125160025921': [{'41 <= 0.37277026560696924': [{'47 <= 0.4353099730458233': [{'28 <= 0.5849365844944623': [{'14 <= 0.17546622260307249': [{'47 <= 0.42520215633423264': [{'39 <= 0.00036750671560333763': [{'11 <= 0.778534786790638': [{'11 <= 0.7451557900259407': [{'11 <= 0.7284371447725086': [{'11 <= 0.7179559299309219': [{'27 <= 0.5450609497102092': [{'34 <= 0.2673178445244233': [{'17 <= 0.10970688564499947': [{'25 <= 0.5837665150530649': [{'37 <= 0.12260666956771123': [{'25 <= 0.5767124214858134': [{'44 <= 0.534386617100372': [{'35 <= 0.2666186537544973': [{'35 <= 0.2603663603119504': [{'0 <= 0.5967590169768269': [{'29 <= 0.6485076784207762': [{'25 <= 0.5712065013356438': [{'27 <= 0.5447058245908902': [{'27 <= 0.5443040908696466': [{'24 <= 0.5432674608120416': [{'24 <= 0.5427065756675136': [{'11 <= 0.6256623626453699': [{'27 <= 0.543897817319857': [{'29 <= 0.6301443649300004': [{'8 <= 0.7716269831317808': [{'8 <= 0.7440474697671152': [{'8 <= 0.7175222828022411': [{'8 <= 0.6413770445756362': [True, True]}, True]}, True]}, True]}, True]}, True]}, True]}, True]}, True]}, True]}, True]}, True]}, True]}, True]}, True]}, True]}, True]}, True]}, True]}, True]}, True]}, True]}, True]}, True]}, True]}, True]}, True]}, True]}, True]}, True]}, True]}, True]}, True]}, True]}, True]}, True]}, True]},\n",
       "       {'8 <= 0.8265076315776274': [{'0 <= 0.5972554094883227': [{'36 <= 0.00035606576982208024': [{'40 <= 0.15422838843131165': [{'8 <= 0.806991056784154': [{'8 <= 0.7955148493496982': [{'26 <= 0.5432001277131927': [{'25 <= 0.592234540827377': [{'4 <= 0.752187808352501': [{'39 <= 0.00036750671560333763': [{'0 <= 0.5970520748292198': [{'25 <= 0.5879733412749982': [{'25 <= 0.5795353223593964': [{'25 <= 0.5721874774384521': [{'24 <= 0.5435879751689756': [{'24 <= 0.5434595357365418': [{'24 <= 0.5434252312928431': [{'32 <= 0.4111125160025921': [{'47 <= 0.4353099730458233': [{'37 <= 0.13846662279734823': [{'47 <= 0.42520215633423264': [{'11 <= 0.7413258911655833': [{'35 <= 0.2855024906258831': [{'35 <= 0.27721446376677117': [{'14 <= 0.17546622260307249': [{'27 <= 0.5446934245561793': [{'11 <= 0.6311711212801305': [{'24 <= 0.5427065756675136': [{'47 <= 0.4110512129380063': [{'38 <= 0.18437402524906013': [{'38 <= 0.11145125201031753': [{'39 <= 0.0003334792717301268': [{'24 <= 0.5422906170605436': [{'24 <= 0.5422636678490964': [{'38 <= 0.06859781982273516': [{'47 <= 0.39016172506738567': [{'11 <= 0.5821956337987116': [{'41 <= 0.2435932428616074': [{'39 <= 0.0002929749155119899': [{'47 <= 0.34973045822102444': [{'47 <= 0.32142857142857173': [True, True]}, True]}, True]}, True]}, True]}, True]}, True]}, True]}, True]}, True]}, True]}, True]}, True]}, True]}, True]}, True]}, True]}, True]}, True]}, True]}, True]}, True]}, True]}, True]}, True]}, True]}, True]}, True]}, True]}, True]}, True]}, True]}, True]}, True]}, True]}, True]}, True]}, True]}, True]}, True]}, True]},\n",
       "       {'41 <= 0.37277026560696924': [{'38 <= 0.19168390710504515': [{'35 <= 0.3059694882512475': [{'47 <= 0.42924528301886977': [{'32 <= 0.4111125160025921': [{'27 <= 0.5450609497102092': [{'38 <= 0.12414652028018094': [{'29 <= 0.6485076784207762': [{'40 <= 0.14895654425431124': [{'38 <= 0.1135277865933806': [{'38 <= 0.10814240017950222': [{'37 <= 0.0970185543491818': [{'24 <= 0.5435879751689756': [{'24 <= 0.5431435453717464': [{'24 <= 0.5427210164901011': [{'24 <= 0.5426045611428023': [{'40 <= 0.09704563103287539': [{'14 <= 0.17546622260307249': [{'27 <= 0.5445276568729991': [{'27 <= 0.5441259231517555': [{'39 <= 0.00036750671560333763': [{'40 <= 0.07561462515527026': [{'27 <= 0.543956711775694': [{'40 <= 0.07131639695881313': [{'35 <= 0.2711429041414828': [{'29 <= 0.629141126011056': [{'3 <= 0.8411380398671096': [{'8 <= 0.7714464134343855': [{'8 <= 0.7312746715888627': [{'8 <= 0.7049300543213839': [{'8 <= 0.6889503884756407': [{'35 <= 0.2661715642648963': [{'25 <= 0.5880277146054437': [{'25 <= 0.575437694029312': [{'35 <= 0.2603663603119504': [{'27 <= 0.5437690533498363': [True, True]}, True]}, True]}, True]}, True]}, True]}, True]}, True]}, True]}, True]}, True]}, True]}, True]}, True]}, True]}, True]}, True]}, True]}, True]}, True]}, True]}, True]}, True]}, True]}, True]}, True]}, True]}, True]}, True]}, True]}, True]}, True]}, True]}, True]}, True]}, True]},\n",
       "       {'41 <= 0.37277026560696924': [{'40 <= 0.15422838843131165': [{'39 <= 0.00036750671560333763': [{'11 <= 0.778534786790638': [{'4 <= 0.752187808352501': [{'27 <= 0.5447936752972127': [{'24 <= 0.5435879751689756': [{'26 <= 0.5432001277131927': [{'17 <= 0.10970688564499947': [{'41 <= 0.2707029504090693': [{'17 <= 0.1014207968488181': [{'31 <= 0.42359221529068225': [{'26 <= 0.5223811668652683': [{'5 <= 0.8292138248469156': [{'11 <= 0.7451557900259407': [{'47 <= 0.4319407008086269': [{'37 <= 0.13233065458709362': [{'37 <= 0.09483608778018382': [{'25 <= 0.5795353223593964': [{'35 <= 0.2855024906258831': [{'25 <= 0.5721874774384521': [{'17 <= 0.09535869929331267': [{'41 <= 0.21653560564468893': [{'8 <= 0.7955148493496982': [{'11 <= 0.729240141070856': [{'35 <= 0.27837436574450947': [{'24 <= 0.5431508257034658': [{'41 <= 0.19220456028167968': [{'36 <= 0.0003313836387082583': [{'3 <= 0.8412759136212624': [{'26 <= 0.4774894094975285': [{'47 <= 0.38611859838275': [{'41 <= 0.1521719434266273': [{'41 <= 0.10213472260762156': [{'41 <= 0.07606168800461476': [{'41 <= 0.060764844990886274': [{'41 <= 0.05186081846796402': [{'44 <= 0.5130111524163554': [{'44 <= 0.45353159851301017': [{'32 <= 0.36984202873354305': [True, True]}, True]}, True]}, True]}, True]}, True]}, True]}, True]}, True]}, True]}, True]}, True]}, True]}, True]}, True]}, True]}, True]}, True]}, True]}, True]}, True]}, True]}, True]}, True]}, True]}, True]}, True]}, True]}, True]}, True]}, True]}, True]}, True]}, True]}, True]}, True]}, True]}, True]}, True]}, True]},\n",
       "       {'5 <= 0.8343488266962561': [{'47 <= 0.4353099730458233': [{'26 <= 0.5432001277131927': [{'23 <= 0.9561378416003965': [{'4 <= 0.752187808352501': [{'37 <= 0.13846662279734823': [{'8 <= 0.8189738625363019': [{'3 <= 0.8415845514950167': [{'5 <= 0.8123166070768093': [{'27 <= 0.5448618412338835': [{'27 <= 0.5444303748327252': [{'27 <= 0.5443159885088444': [{'27 <= 0.5442728281670328': [{'39 <= 0.0003334792717301268': [{'39 <= 0.00031120144573629064': [{'41 <= 0.36891706114675726': [{'17 <= 0.10364478808949402': [{'38 <= 0.18437402524906013': [{'38 <= 0.10037239987062269': [{'31 <= 0.42359221529068225': [{'26 <= 0.5223811668652683': [{'26 <= 0.5132074826247341': [{'2 <= 0.6510413803390119': [{'2 <= 0.6507038066928756': [{'41 <= 0.24251870058584807': [{'38 <= 0.07148056195586991': [{'24 <= 0.5433721717559081': [{'24 <= 0.543011900196539': [{'47 <= 0.3928571428571428': [{'11 <= 0.7238873181963916': [{'24 <= 0.5426986362111117': [{'41 <= 0.1434951328915308': [{'24 <= 0.5422557044245242': [{'27 <= 0.5440251197756576': [{'11 <= 0.6760121250983706': [{'41 <= 0.07776817474651454': [{'11 <= 0.624072400827771': [{'47 <= 0.3477088948787066': [{'47 <= 0.3308625336927231': [True, True]}, True]}, True]}, True]}, True]}, True]}, True]}, True]}, True]}, True]}, True]}, True]}, True]}, True]}, True]}, True]}, True]}, True]}, True]}, True]}, True]}, True]}, True]}, True]}, True]}, True]}, True]}, True]}, True]}, True]}, True]}, True]}, True]}, True]}, True]}, True]}, True]}, True]}, True]}],\n",
       "      dtype=object)"
      ]
     },
     "execution_count": 4,
     "metadata": {},
     "output_type": "execute_result"
    }
   ],
   "source": [
    "rand"
   ]
  },
  {
   "cell_type": "code",
   "execution_count": null,
   "metadata": {},
   "outputs": [],
   "source": []
  }
 ],
 "metadata": {
  "kernelspec": {
   "display_name": "Python 3",
   "language": "python",
   "name": "python3"
  },
  "language_info": {
   "codemirror_mode": {
    "name": "ipython",
    "version": 3
   },
   "file_extension": ".py",
   "mimetype": "text/x-python",
   "name": "python",
   "nbconvert_exporter": "python",
   "pygments_lexer": "ipython3",
   "version": "3.7.3"
  }
 },
 "nbformat": 4,
 "nbformat_minor": 2
}
